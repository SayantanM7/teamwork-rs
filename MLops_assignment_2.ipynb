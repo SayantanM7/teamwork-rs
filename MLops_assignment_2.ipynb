{
 "cells": [
  {
   "cell_type": "markdown",
   "id": "7efa3ff5-1a82-4933-b384-4b704b2e053f",
   "metadata": {},
   "source": [
    "# Import Libraries"
   ]
  },
  {
   "cell_type": "code",
   "execution_count": 3,
   "id": "7bc18803-3ff7-4f69-be49-045823a5f1b4",
   "metadata": {},
   "outputs": [],
   "source": [
    "import numpy as np\n",
    "import matplotlib.pyplot as plt\n",
    "import seaborn as sns\n",
    "import mlflow \n",
    "import mlflow.sklearn\n",
    "import joblib,pickle"
   ]
  },
  {
   "cell_type": "code",
   "execution_count": 4,
   "id": "046b97af-ca07-4e76-9f42-1026cc54eb3f",
   "metadata": {},
   "outputs": [],
   "source": [
    "from sklearn.datasets import fetch_openml\n",
    "from sklearn.model_selection import train_test_split,RandomizedSearchCV,GridSearchCV\n",
    "from sklearn.preprocessing import StandardScaler\n",
    "from sklearn.ensemble import RandomForestClassifier, VotingClassifier\n",
    "from sklearn.linear_model import LogisticRegression\n",
    "from sklearn.svm import SVC\n",
    "from sklearn.metrics import accuracy_score,classification_report"
   ]
  },
  {
   "cell_type": "markdown",
   "id": "cf4ffe48-c162-4d49-b00f-0874683fa538",
   "metadata": {},
   "source": [
    "# Data Loading"
   ]
  },
  {
   "cell_type": "code",
   "execution_count": 5,
   "id": "32afcde4-a859-4abd-b267-c90e99122cbe",
   "metadata": {},
   "outputs": [
    {
     "data": {
      "text/plain": [
       "True"
      ]
     },
     "execution_count": 5,
     "metadata": {},
     "output_type": "execute_result"
    }
   ],
   "source": [
    "# Load MNIST data\n",
    "X,y=fetch_openml('mnist_784',version=1,return_X_y=True)\n",
    "#X\n",
    "\n",
    "X=X.astype(np.float32)/255.0 # Normalize the pixel values\n",
    "\n",
    "X_train,X_test,y_train,y_test= train_test_split(X,y,test_size=0.2,random_state=42) #test size split\n",
    "\n",
    "#X_train.shape[0]\n",
    "#X_test.shape[0]\n",
    "X_train.shape[0]==y_train.shape[0]"
   ]
  },
  {
   "cell_type": "markdown",
   "id": "3a12e815-d3d2-4b14-b55d-9fdfda535763",
   "metadata": {},
   "source": [
    "# Integrating Mlflow to track the experiments"
   ]
  },
  {
   "cell_type": "code",
   "execution_count": 6,
   "id": "208b1220-9724-4c6f-9aba-086a5cf72210",
   "metadata": {},
   "outputs": [],
   "source": [
    "mlflow.set_experiment(\"MLops_digit_recognizer\")\n",
    "mlflow.sklearn.autolog()"
   ]
  },
  {
   "cell_type": "markdown",
   "id": "f5fdf5f2-1eb1-4979-9981-7b6d31184c55",
   "metadata": {},
   "source": [
    "# Building and training the Ensemble"
   ]
  },
  {
   "cell_type": "code",
   "execution_count": 9,
   "id": "950201d0-a184-4ef6-9a00-09e20bd3e4a1",
   "metadata": {
    "scrolled": true
   },
   "outputs": [
    {
     "name": "stderr",
     "output_type": "stream",
     "text": [
      "2025/07/04 21:16:19 INFO mlflow.sklearn.utils: Logging the 5 best runs, no runs will be omitted.\n"
     ]
    },
    {
     "name": "stdout",
     "output_type": "stream",
     "text": [
      "Accuracy: 0.9450\n",
      "              precision    recall  f1-score   support\n",
      "\n",
      "           0       0.98      0.98      0.98      1343\n",
      "           1       0.96      0.98      0.97      1600\n",
      "           2       0.93      0.93      0.93      1380\n",
      "           3       0.93      0.92      0.92      1433\n",
      "           4       0.94      0.95      0.94      1295\n",
      "           5       0.92      0.92      0.92      1273\n",
      "           6       0.96      0.97      0.96      1396\n",
      "           7       0.95      0.96      0.95      1503\n",
      "           8       0.93      0.92      0.92      1357\n",
      "           9       0.94      0.93      0.93      1420\n",
      "\n",
      "    accuracy                           0.94     14000\n",
      "   macro avg       0.94      0.94      0.94     14000\n",
      "weighted avg       0.94      0.94      0.94     14000\n",
      "\n"
     ]
    }
   ],
   "source": [
    "with mlflow.start_run():\n",
    "\n",
    "    # initializing models\n",
    "    rf= RandomForestClassifier(random_state=42)\n",
    "    lr=LogisticRegression(max_iter=1000,random_state=42)\n",
    "    #svc=SVC(probability= True, random_state=42)\n",
    "\n",
    "    #Soft voting\n",
    "\n",
    "    ensemble=VotingClassifier(estimators=[\n",
    "        ('rf',rf),\n",
    "        ('lr',lr)\n",
    "        #,('svc',svc)\n",
    "    ], voting='soft')\n",
    "\n",
    "    # Hyperparamter grid \n",
    "\n",
    "    param_grid={\n",
    "        'rf__n_estimators':[50],#,100],\n",
    "        'lr__C':[0.01, 0.1, 1.0, 10.0]\n",
    "        #,'svc__C':[1.0]\n",
    "    }\n",
    "\n",
    "    # search=RandomizedSearchCV(ensemble,param_distributions=param_grid, n_iter=4,cv=3,n_jobs=-1)\n",
    "    search=GridSearchCV(ensemble,param_grid=param_grid,cv=3,n_jobs=-1)\n",
    "    search.fit(X_train,y_train)\n",
    "\n",
    "    y_pred=search.best_estimator_.predict(X_test)\n",
    "\n",
    "    acc=accuracy_score(y_test,y_pred)\n",
    "    print(f\"Accuracy: {acc:.4f}\")\n",
    "\n",
    "    report =classification_report(\n",
    "        y_test,y_pred)\n",
    "    print(report)\n",
    "\n",
    "\n",
    "    with open(\"classification_report.txt\",\"w\") as f:\n",
    "        f.write(report)\n",
    "\n",
    "    mlflow.log_artifact(\"classification_report.txt\")\n",
    "\n",
    "    #dump model in joblib format\n",
    "    \n",
    "    joblib.dump(search.best_estimator_,\"model.joblib\")\n",
    "    mlflow.log_artifact(\"model.joblib\")\n",
    "    \n",
    "    with open (\"model.pkl\",\"wb\") as f:\n",
    "        pickle.dump(search.best_estimator_,f)\n",
    "    \n",
    "    mlflow.log_artifact(\"model.pkl\")\n",
    "    \n",
    "    \n"
   ]
  },
  {
   "cell_type": "code",
   "execution_count": null,
   "id": "543253d2-11a1-41d2-b5b0-dd256031d026",
   "metadata": {},
   "outputs": [],
   "source": []
  }
 ],
 "metadata": {
  "kernelspec": {
   "display_name": "Python 3 (ipykernel)",
   "language": "python",
   "name": "python3"
  },
  "language_info": {
   "codemirror_mode": {
    "name": "ipython",
    "version": 3
   },
   "file_extension": ".py",
   "mimetype": "text/x-python",
   "name": "python",
   "nbconvert_exporter": "python",
   "pygments_lexer": "ipython3",
   "version": "3.10.16"
  }
 },
 "nbformat": 4,
 "nbformat_minor": 5
}
